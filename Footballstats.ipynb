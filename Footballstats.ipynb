{
 "cells": [
  {
   "cell_type": "code",
   "execution_count": 1,
   "metadata": {},
   "outputs": [],
   "source": [
    "import pandas as pd\n",
    "import numpy as np\n",
    "import matplotlib.pyplot as plt\n",
    "import seaborn as sns\n",
    "from sklearn.preprocessing import StandardScaler\n",
    "from sklearn.model_selection import train_test_split\n",
    "from sklearn.linear_model import LogisticRegression\n",
    "from sklearn.metrics import classification_report, confusion_matrix, roc_curve, roc_auc_score\n",
    "from sklearn.metrics import precision_recall_curve, average_precision_score, f1_score, auc\n",
    "from sklearn.metrics import accuracy_score, recall_score, precision_score\n",
    "import datetime\n",
    "import os\n",
    "import sys\n",
    "import pickle\n",
    "import time\n",
    "import requests\n",
    "import json\n",
    "import http.client\n"
   ]
  },
  {
   "cell_type": "markdown",
   "metadata": {},
   "source": [
    "First we load the data, through an free API KEY - which we will create an enviroment for later on.\n"
   ]
  },
  {
   "cell_type": "code",
   "execution_count": 2,
   "metadata": {},
   "outputs": [],
   "source": [
    "api_key = '70a0fbba6f803debc67568b6a68bc732'"
   ]
  },
  {
   "cell_type": "code",
   "execution_count": 6,
   "metadata": {},
   "outputs": [],
   "source": [
    "rapid_api_key = '91f43d9fa3msh13cfc8396d658d0p122dbejsn1ba079d0f306'"
   ]
  },
  {
   "cell_type": "code",
   "execution_count": 7,
   "metadata": {},
   "outputs": [],
   "source": [
    "base_url = 'https://v3.football.api-sports.io/'"
   ]
  },
  {
   "cell_type": "code",
   "execution_count": 10,
   "metadata": {},
   "outputs": [
    {
     "name": "stdout",
     "output_type": "stream",
     "text": [
      "{\"message\":\"You are not subscribed to this API.\"}\n"
     ]
    }
   ],
   "source": [
    "import http.client\n",
    "\n",
    "conn = http.client.HTTPSConnection(\"api-football-v1.p.rapidapi.com\")\n",
    "\n",
    "headers = {\n",
    "    'x-rapidapi-key': \"70f3960a4dmshe2794e96029bd7ap1a646ajsn6b03082d0b15\",\n",
    "    'x-rapidapi-host': \"api-football-v1.p.rapidapi.com\"\n",
    "}\n",
    "\n",
    "conn.request(\"GET\", \"/v2/odds/league/865927/bookmaker/5?page=2\", headers=headers)\n",
    "\n",
    "res = conn.getresponse()\n",
    "data = res.read()\n",
    "\n",
    "print(data.decode(\"utf-8\"))"
   ]
  },
  {
   "cell_type": "code",
   "execution_count": 22,
   "metadata": {},
   "outputs": [
    {
     "name": "stdout",
     "output_type": "stream",
     "text": [
      "Empty DataFrame\n",
      "Columns: []\n",
      "Index: []\n"
     ]
    }
   ],
   "source": [
    "# Initialize connection\n",
    "conn = http.client.HTTPSConnection(\"v3.football.api-sports.io\")\n",
    "\n",
    "# API headers with your API key\n",
    "headers = {\n",
    "    'x-apisports-key': \"70a0fbba6f803debc67568b6a68bc732\"\n",
    "}\n",
    "\n",
    "# Helper function to make requests and handle the response\n",
    "def make_request(endpoint):\n",
    "    conn.request(\"GET\", endpoint, headers=headers)\n",
    "    res = conn.getresponse()\n",
    "    if res.status == 200:  # Check if the response is OK\n",
    "        data = res.read()\n",
    "        return json.loads(data.decode(\"utf-8\"))\n",
    "    else:\n",
    "        print(f\"Error: {res.status} - {res.reason}\")\n",
    "        return None\n",
    "\n",
    "# Step 1: Fetch leagues and seasons\n",
    "selected_countries = [\"England\", \"Denmark\", \"Spain\", \"Italy\", \"Portugal\", \"Germany\", \"Sweden\", \"Norway\", \"Switzerland\", \"Belgium\", \"Holland\"]\n",
    "leagues = []\n",
    "for country in selected_countries:\n",
    "    leagues_data = make_request(f\"/leagues?country={country}\")\n",
    "    if leagues_data:\n",
    "        leagues.extend(leagues_data['response'])\n",
    "\n",
    "# Step 2: For each league, fetch available seasons and player statistics\n",
    "player_stats = []\n",
    "for league in leagues:\n",
    "    league_id = league['league']['id']\n",
    "    seasons_data = make_request(f\"/leagues/seasons?league={league_id}\")\n",
    "    if seasons_data:\n",
    "        for season in seasons_data['response']:\n",
    "            season_year = season['year']\n",
    "            # Fetch player statistics for each league and season\n",
    "            players_data = make_request(f\"/players/statistics?league={league_id}&season={season_year}\")\n",
    "            if players_data:\n",
    "                player_stats.extend(players_data['response'])\n",
    "\n",
    "# Convert to DataFrame\n",
    "df_player_stats = pd.DataFrame(player_stats)\n",
    "\n",
    "# Display the dataframe\n",
    "print(df_player_stats)\n",
    "\n",
    "# Optional: Save to CSV\n",
    "#df_player_stats.to_csv(\"all_seasons_player_stats.csv\", index=False)\n"
   ]
  }
 ],
 "metadata": {
  "kernelspec": {
   "display_name": "Python 3",
   "language": "python",
   "name": "python3"
  },
  "language_info": {
   "codemirror_mode": {
    "name": "ipython",
    "version": 3
   },
   "file_extension": ".py",
   "mimetype": "text/x-python",
   "name": "python",
   "nbconvert_exporter": "python",
   "pygments_lexer": "ipython3",
   "version": "3.12.5"
  }
 },
 "nbformat": 4,
 "nbformat_minor": 2
}
