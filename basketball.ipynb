{
 "cells": [
  {
   "cell_type": "code",
   "execution_count": 6,
   "metadata": {},
   "outputs": [
    {
     "name": "stdout",
     "output_type": "stream",
     "text": [
      "Data saved to nba_player_stats.csv\n"
     ]
    }
   ],
   "source": [
    "from selenium import webdriver\n",
    "from selenium.webdriver.common.by import By\n",
    "import pandas as pd\n",
    "\n",
    "# Initialize the WebDriver\n",
    "driver = webdriver.Chrome()\n",
    "\n",
    "# Navigate to Basketball-Reference player stats page\n",
    "url = 'https://www.basketball-reference.com/leagues/NBA_2024_per_game.html'\n",
    "driver.get(url)\n",
    "\n",
    "# Locate the table\n",
    "table = driver.find_element(By.ID, 'per_game_stats')\n",
    "\n",
    "# Extract data\n",
    "rows = table.find_elements(By.TAG_NAME, 'tr')\n",
    "data = []\n",
    "for row in rows:\n",
    "    cols = row.find_elements(By.TAG_NAME, 'td')\n",
    "    if cols:  # Only add rows with data\n",
    "        cols = [col.text for col in cols]\n",
    "        data.append(cols)\n",
    "\n",
    "# Create DataFrame\n",
    "columns = [header.get_attribute('aria-label') for header in table.find_elements(By.TAG_NAME, 'th') if header.get_attribute('aria-label')]\n",
    "df = pd.DataFrame(data, columns=columns[:len(data[0])])\n",
    "\n",
    "# Clean up\n",
    "driver.quit()\n",
    "\n",
    "# Save to CSV\n",
    "df.to_csv('nba_player_stats.csv', index=False)\n",
    "print('Data saved to nba_player_stats.csv')"
   ]
  },
  {
   "cell_type": "code",
   "execution_count": 7,
   "metadata": {},
   "outputs": [],
   "source": [
    "from selenium import webdriver\n",
    "from selenium.webdriver.common.by import By\n",
    "import pandas as pd\n",
    "import time\n",
    "\n",
    "# Initialize the WebDriver\n",
    "driver = webdriver.Chrome()\n",
    "\n",
    "# Define the years for the last 10 seasons\n",
    "years = range(2014, 2025)\n",
    "all_data = []\n",
    "\n",
    "for year in years:\n",
    "    # Navigate to Basketball-Reference player stats page for each year\n",
    "    url = f'https://www.basketball-reference.com/leagues/NBA_{year}_per_game.html'\n",
    "    driver.get(url)\n",
    "    time.sleep(2)  # Allow time for the page to load\n",
    "\n",
    "    # Locate the table\n",
    "    table = driver.find_element(By.ID, 'per_game_stats')\n",
    "\n",
    "    # Extract data\n",
    "    rows = table.find_elements(By.TAG_NAME, 'tr')\n",
    "    for row in rows:\n",
    "        cols = row.find_elements(By.TAG_NAME, 'td')\n",
    "        if cols:  # Only add rows with data\n",
    "            cols = [col.text for col in cols]\n",
    "            cols.append(year)  # Add the year to the data\n",
    "            all_data.append(cols)\n",
    "\n",
    "# Create DataFrame\n",
    "columns = [header.get_attribute('aria-label') for header in table.find_elements(By.TAG_NAME, 'th') if header.get_attribute('aria-label')]\n",
    "columns.append('Season')  # Add a 'Season' column\n",
    "\n",
    "df = pd.DataFrame(all_data, columns=columns[:len(all_data[0])])\n",
    "\n",
    "# Clean up\n",
    "driver.quit()\n",
    "\n",
    "# Save to CSV\n",
    "df.to_csv('nba_player_stats_last_10_years.csv', index=False)\n"
   ]
  },
  {
   "cell_type": "code",
   "execution_count": null,
   "metadata": {},
   "outputs": [],
   "source": []
  }
 ],
 "metadata": {
  "kernelspec": {
   "display_name": ".conda",
   "language": "python",
   "name": "python3"
  },
  "language_info": {
   "codemirror_mode": {
    "name": "ipython",
    "version": 3
   },
   "file_extension": ".py",
   "mimetype": "text/x-python",
   "name": "python",
   "nbconvert_exporter": "python",
   "pygments_lexer": "ipython3",
   "version": "3.12.5"
  }
 },
 "nbformat": 4,
 "nbformat_minor": 2
}
